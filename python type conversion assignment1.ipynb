{
 "cells": [
  {
   "cell_type": "code",
   "execution_count": 1,
   "id": "b97b3eb6-26ce-41b4-b465-88f68070d056",
   "metadata": {},
   "outputs": [
    {
     "name": "stdout",
     "output_type": "stream",
     "text": [
      "Integer:  42\n",
      "Floating point:  42.0\n"
     ]
    }
   ],
   "source": [
    "integer_number = 42\n",
    "floating_point_number = float(integer_number)\n",
    "\n",
    "print('Integer: ',integer_number)\n",
    "print('Floating point: ',floating_point_number)\n"
   ]
  },
  {
   "cell_type": "code",
   "execution_count": 7,
   "id": "9e19613c-64a8-4ae1-8708-78b9d57ada9a",
   "metadata": {},
   "outputs": [
    {
     "name": "stdout",
     "output_type": "stream",
     "text": [
      "Floating point:  42.0\n",
      "Integer:  42\n"
     ]
    }
   ],
   "source": [
    "floating_point_number= 42.0\n",
    "integer_number= int(integer_number)\n",
    "\n",
    "print('Floating point: ',floating_point_number)\n",
    "print('Integer: ',integer_number)\n"
   ]
  },
  {
   "cell_type": "code",
   "execution_count": 8,
   "id": "159a382c-98d0-45d1-baad-94c88908fcdf",
   "metadata": {},
   "outputs": [
    {
     "name": "stdout",
     "output_type": "stream",
     "text": [
      "Integer:  42\n",
      "String:  42\n"
     ]
    }
   ],
   "source": [
    "integer_number = 42\n",
    "string=str(integer_number)\n",
    "\n",
    "print('Integer: ',integer_number)\n",
    "print('String: ',string)\n"
   ]
  },
  {
   "cell_type": "code",
   "execution_count": 12,
   "id": "8c46053f-b187-40b1-aac0-c915cb9023de",
   "metadata": {},
   "outputs": [
    {
     "name": "stdout",
     "output_type": "stream",
     "text": [
      "List:  [42, 45.0, 'shadab', True]\n",
      "Tuple:  (42, 45.0, 'shadab', True)\n"
     ]
    }
   ],
   "source": [
    "list_name=[42,45.0,'shadab',True]\n",
    "Tuple_name=tuple(list_name)\n",
    "\n",
    "print('List: ',list_name)\n",
    "print('Tuple: ',Tuple_name)\n"
   ]
  },
  {
   "cell_type": "code",
   "execution_count": 13,
   "id": "0f18095c-491a-4085-a8d5-427a010b6b73",
   "metadata": {},
   "outputs": [
    {
     "name": "stdout",
     "output_type": "stream",
     "text": [
      "Tuple:  (42, 45.0, 'shadab', True)\n",
      "List:  [42, 45.0, 'shadab', True]\n"
     ]
    }
   ],
   "source": [
    "Tuple_name1=(42,45.0,'shadab',True)\n",
    "list_name1=list(Tuple_name)\n",
    "\n",
    "print('Tuple: ',Tuple_name1)\n",
    "print('List: ',list_name1)\n"
   ]
  },
  {
   "cell_type": "code",
   "execution_count": 16,
   "id": "ea4b0115-7ac7-4d09-8347-f9b672113302",
   "metadata": {},
   "outputs": [
    {
     "name": "stdout",
     "output_type": "stream",
     "text": [
      "Decimal:  42\n",
      "Binary:  0b101010\n"
     ]
    }
   ],
   "source": [
    "decimal_number= 42\n",
    "binary_representation= bin(decimal_number)\n",
    "\n",
    "print('Decimal: ',decimal_number)\n",
    "print('Binary: ',binary_representation)\n"
   ]
  },
  {
   "cell_type": "code",
   "execution_count": null,
   "id": "5afa0a3f-58d3-4a11-b5db-764777b638a5",
   "metadata": {},
   "outputs": [],
   "source": [
    "non_zero_number = 42\n",
    "boolean_value = bool(non_zero_number)\n",
    "\n",
    "print('Non-zero number: ',non_zero_number)\n",
    "print('Boolean value: ',boolean_value)"
   ]
  },
  {
   "cell_type": "code",
   "execution_count": null,
   "id": "fbd0b1d0-c89c-41f0-8b43-db70f4afa093",
   "metadata": {},
   "outputs": [],
   "source": []
  }
 ],
 "metadata": {
  "kernelspec": {
   "display_name": "Python 3 (ipykernel)",
   "language": "python",
   "name": "python3"
  },
  "language_info": {
   "codemirror_mode": {
    "name": "ipython",
    "version": 3
   },
   "file_extension": ".py",
   "mimetype": "text/x-python",
   "name": "python",
   "nbconvert_exporter": "python",
   "pygments_lexer": "ipython3",
   "version": "3.10.8"
  }
 },
 "nbformat": 4,
 "nbformat_minor": 5
}
